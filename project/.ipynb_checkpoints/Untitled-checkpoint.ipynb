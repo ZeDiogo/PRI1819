{
 "cells": [
  {
   "cell_type": "markdown",
   "metadata": {},
   "source": [
    "# Project PRI"
   ]
  },
  {
   "cell_type": "markdown",
   "metadata": {},
   "source": [
    "The goal of this project is to implement an Information Search & Extraction System for\n",
    "the analysis of political discourse. Your system will have access to a large set of documents containing the electoral manifestos\n",
    "of several political parties from different countries in the world. Using this data,\n",
    "the system should be able to provide the following functionalities."
   ]
  },
  {
   "cell_type": "markdown",
   "metadata": {},
   "source": [
    "a) Ad hoc search on the collection of documents\n",
    "\n",
    "Given a query, represented by a set of keywords, the system should return all manifestos containing such keywords, ordered according to their relevance to the query."
   ]
  },
  {
   "cell_type": "markdown",
   "metadata": {},
   "source": [
    "1- create an inverted index/dictionary for all documents in the document collection\n",
    "\n",
    "2- from query given in command line, transform it, to compare with document dictionary and retrieve all that are relevant\n",
    "\n",
    "3- ranking of documents (based on relevance to the query)\n"
   ]
  },
  {
   "cell_type": "markdown",
   "metadata": {},
   "source": [
    "we can surpress common words, or consider the different conjugations of the same verb the same term, and so on!"
   ]
  },
  {
   "cell_type": "code",
   "execution_count": 9,
   "metadata": {
    "scrolled": true
   },
   "outputs": [
    {
     "name": "stdout",
     "output_type": "stream",
     "text": [
      "16726\n",
      "text            Table 1 (continued) All figures in £bn TAX AND...\n",
      "manifesto_id                                         51951_201505\n",
      "party                           United Kingdom Independence Party\n",
      "date                                                       201505\n",
      "title                     Believe in Britain. UKIP Manifesto 2015\n",
      "Name: 16725, dtype: object\n",
      "text            Our aim: To make Britain the world's foremost ...\n",
      "manifesto_id                                         51421_199705\n",
      "party                                           Liberal Democrats\n",
      "date                                                       199705\n",
      "title                                         Make the Difference\n",
      "Name: 21, dtype: object\n"
     ]
    }
   ],
   "source": [
    "#read csv file \n",
    "import pandas as pd\n",
    "\n",
    "data = pd.read_csv(\"en_docs_clean.csv\")\n",
    "\n",
    "#creates a frame with columns text, id, party, date and title\n",
    "print(data.shape[0])\n",
    "print(data.iloc[16725])\n",
    "print(data.iloc[21]) #to access first row\n",
    "\n",
    "#devo comprimir num só texto os que possuem o mesmo manifesto_id?\n",
    "#https://whoosh.readthedocs.io/en/latest/indexing.html#indexing-documents"
   ]
  },
  {
   "cell_type": "code",
   "execution_count": 14,
   "metadata": {},
   "outputs": [
    {
     "name": "stdout",
     "output_type": "stream",
     "text": [
      "<Schema: ['date', 'manifesto_id', 'party', 'text', 'title']>\n",
      "Going to commit\n"
     ]
    }
   ],
   "source": [
    "#now we want to create an index in order to ease the access and search\n",
    "import nltk\n",
    "import os.path\n",
    "import shutil\n",
    "from whoosh.fields import Schema, TEXT, ID, NUMERIC\n",
    "from whoosh.index import create_in\n",
    "from whoosh.query import Every\n",
    "from whoosh.analysis import StemmingAnalyzer\n",
    "from whoosh.formats import Frequency\n",
    "\n",
    "#define the index's schema, that lists the fields in the index\n",
    "\n",
    "#a field is a piece of information for each document in the index,\n",
    "#such as its title or text content. It can be searched and/or stored\n",
    "#(meaning the value that fets indexed is returned with the results)\n",
    "\n",
    "#ndexing of a field means it can be searched and it is also returned \n",
    "#with results if defined as argument (stored=True) in schema.\n",
    "\n",
    "# in our data, we have the text,manifesto_id,party,date,title\n",
    "\n",
    "def createIndexComplete(data):\n",
    "    \n",
    "    #composes a RegexTokenizer (class implements a customizable, regular-expression-based tokenizer that extracts words\n",
    "    #and ignores whitespace and punctuation) + LowerCaseFilter + StopWordsFilter + stemming filter(verbs converted to infinitive)\n",
    "    analyzer = StemmingAnalyzer() \n",
    "    \n",
    "    vector_format = Frequency() #Stores the number of times each term appears in each document.\n",
    "    \n",
    "    schema = Schema(text=TEXT(analyzer=analyzer, vector=vector_format), manifesto_id=ID(stored=True), party=TEXT(stored=True, vector=vector_format), date=NUMERIC, title=TEXT(stored=True, analyzer=analyzer, vector=vector_format))\n",
    "    print(schema)\n",
    "    \n",
    "    if os.path.isdir(\"index\"):\n",
    "        shutil.rmtree(\"index\")\n",
    "\n",
    "    if not os.path.exists(\"index\"):\n",
    "        os.mkdir(\"index\")\n",
    "    \n",
    "    index = create_in(\"index\", schema)\n",
    "    #The main index is an inverted index. It maps terms to the documents they appear in.\n",
    "    \n",
    "    #create an index writer to add documents\n",
    "    writer = index.writer()\n",
    "    \n",
    "    for i in range(data.shape[0]):\n",
    "        #print(i)\n",
    "        #print(data.loc[i, \"manifesto_id\"])\n",
    "        writer.add_document(text=data.loc[i, \"text\"], manifesto_id=data.loc[i, \"manifesto_id\"], party=data.loc[i, \"party\"], date=data.loc[i, \"date\"], title=data.loc[i, \"title\"])\n",
    "        #print(\"One added\")\n",
    "    print(\"Going to commit\")\n",
    "    writer.commit()\n",
    "    return index\n",
    "    \n",
    "    \n",
    "index = createIndexComplete(data)\n"
   ]
  },
  {
   "cell_type": "code",
   "execution_count": 20,
   "metadata": {},
   "outputs": [
    {
     "name": "stdout",
     "output_type": "stream",
     "text": [
      "Id: 51320_196410 Party: Labour Party\n",
      "Text:\n",
      "<Hit {'manifesto_id': '51320_196410', 'party': 'Labour Party', 'title': 'Let’s Go With Labour for the New Britain'}>\n",
      "Id: 51620_196410 Party: Conservative Party\n",
      "Text:\n",
      "<Hit {'manifesto_id': '51620_196410', 'party': 'Conservative Party', 'title': '‘Prosperity with a Purpose’, Conservative and Unionist Party’s Policy'}>\n",
      "Id: 51320_196603 Party: Labour Party\n",
      "Text:\n",
      "<Hit {'manifesto_id': '51320_196603', 'party': 'Labour Party', 'title': 'Time for Decision'}>\n",
      "Id: 51620_196603 Party: Conservative Party\n",
      "Text:\n",
      "<Hit {'manifesto_id': '51620_196603', 'party': 'Conservative Party', 'title': 'Action not Words: New Conservative Programme'}>\n",
      "Id: 51320_197006 Party: Labour Party\n",
      "Text:\n",
      "<Hit {'manifesto_id': '51320_197006', 'party': 'Labour Party', 'title': 'Now Britain’s Strong - Let’s Make it Great to Live In'}>\n",
      "Id: 51620_197006 Party: Conservative Party\n",
      "Text:\n",
      "<Hit {'manifesto_id': '51620_197006', 'party': 'Conservative Party', 'title': 'A Better Tomorrow'}>\n",
      "Id: 51320_197402 Party: Labour Party\n",
      "Text:\n",
      "<Hit {'manifesto_id': '51320_197402', 'party': 'Labour Party', 'title': 'Let us Work Together - Labour’s Way Out of the Crisis'}>\n",
      "Id: 51620_197402 Party: Conservative Party\n",
      "Text:\n",
      "<Hit {'manifesto_id': '51620_197402', 'party': 'Conservative Party', 'title': 'Firm Action for a Fair Britain'}>\n",
      "Id: 51320_197410 Party: Labour Party\n",
      "Text:\n",
      "<Hit {'manifesto_id': '51320_197410', 'party': 'Labour Party', 'title': 'Britain Will Win With Labour'}>\n",
      "Id: 51620_197410 Party: Conservative Party\n",
      "Text:\n",
      "<Hit {'manifesto_id': '51620_197410', 'party': 'Conservative Party', 'title': 'Putting Britain First'}>\n"
     ]
    }
   ],
   "source": [
    "#By default, Whoosh returns the results ordered using the BM25 similarity\n",
    "\n",
    "def showIndex(index):\n",
    "    with index.searcher() as searcher:\n",
    "        # Match any documents with something in the \"text\" field\n",
    "        results = searcher.search(Every('text'))\n",
    "        for result in results:\n",
    "            print (\"Id: %s Party: %s\" % (result['manifesto_id'], result['party']))\n",
    "            print (\"Text:\")\n",
    "            print (result)\n",
    "            print(\"Score:\", result.score)\n",
    "        \n",
    "showIndex(index)"
   ]
  },
  {
   "cell_type": "code",
   "execution_count": null,
   "metadata": {},
   "outputs": [],
   "source": []
  }
 ],
 "metadata": {
  "kernelspec": {
   "display_name": "Python 3",
   "language": "python",
   "name": "python3"
  },
  "language_info": {
   "codemirror_mode": {
    "name": "ipython",
    "version": 3
   },
   "file_extension": ".py",
   "mimetype": "text/x-python",
   "name": "python",
   "nbconvert_exporter": "python",
   "pygments_lexer": "ipython3",
   "version": "3.6.4"
  }
 },
 "nbformat": 4,
 "nbformat_minor": 2
}
