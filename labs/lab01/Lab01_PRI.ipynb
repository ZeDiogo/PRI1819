{
 "cells": [
  {
   "cell_type": "code",
   "execution_count": 2,
   "metadata": {},
   "outputs": [
    {
     "data": {
      "text/plain": [
       "(['BBC',\n",
       "  'deputy',\n",
       "  'political',\n",
       "  'editor',\n",
       "  'John',\n",
       "  'Pienaar',\n",
       "  'said',\n",
       "  'Mr',\n",
       "  'Johnson',\n",
       "  'word',\n",
       "  'article',\n",
       "  'published',\n",
       "  'two',\n",
       "  'days',\n",
       "  'before',\n",
       "  'the',\n",
       "  'start',\n",
       "  'of',\n",
       "  'the',\n",
       "  'Conservative',\n",
       "  'Party',\n",
       "  'conference',\n",
       "  'was',\n",
       "  'a',\n",
       "  'reminder',\n",
       "  'that',\n",
       "  'the',\n",
       "  'PM',\n",
       "  'plan',\n",
       "  'had',\n",
       "  'very',\n",
       "  'little',\n",
       "  'support',\n",
       "  'in',\n",
       "  'the',\n",
       "  'party',\n",
       "  'and',\n",
       "  'it',\n",
       "  'was',\n",
       "  'going',\n",
       "  'to',\n",
       "  'be',\n",
       "  'a',\n",
       "  'difficult',\n",
       "  'week',\n",
       "  'for',\n",
       "  'her',\n",
       "  'in',\n",
       "  'Birmingham',\n",
       "  'The',\n",
       "  'UK',\n",
       "  'is',\n",
       "  'due',\n",
       "  'to',\n",
       "  'leave',\n",
       "  'the',\n",
       "  'EU',\n",
       "  'on',\n",
       "  'March',\n",
       "  'The',\n",
       "  'two',\n",
       "  'sides',\n",
       "  'are',\n",
       "  'seeking',\n",
       "  'to',\n",
       "  'negotiate',\n",
       "  'the',\n",
       "  'terms',\n",
       "  'of',\n",
       "  'exit',\n",
       "  'as',\n",
       "  'well',\n",
       "  'as',\n",
       "  'an',\n",
       "  'outline',\n",
       "  'agreement',\n",
       "  'on',\n",
       "  'future',\n",
       "  'Parliament',\n",
       "  'is',\n",
       "  'to',\n",
       "  'vote',\n",
       "  'on',\n",
       "  'any',\n",
       "  'withdrawal',\n",
       "  'deal'],\n",
       " {'BBC': 1,\n",
       "  'Birmingham': 1,\n",
       "  'Conservative': 1,\n",
       "  'EU': 1,\n",
       "  'John': 1,\n",
       "  'Johnson': 1,\n",
       "  'March': 1,\n",
       "  'Mr': 1,\n",
       "  'PM': 1,\n",
       "  'Parliament': 1,\n",
       "  'Party': 1,\n",
       "  'Pienaar': 1,\n",
       "  'The': 2,\n",
       "  'UK': 1,\n",
       "  'a': 2,\n",
       "  'agreement': 1,\n",
       "  'an': 1,\n",
       "  'and': 1,\n",
       "  'any': 1,\n",
       "  'are': 1,\n",
       "  'article': 1,\n",
       "  'as': 2,\n",
       "  'be': 1,\n",
       "  'before': 1,\n",
       "  'conference': 1,\n",
       "  'days': 1,\n",
       "  'deal': 1,\n",
       "  'deputy': 1,\n",
       "  'difficult': 1,\n",
       "  'due': 1,\n",
       "  'editor': 1,\n",
       "  'exit': 1,\n",
       "  'for': 1,\n",
       "  'future': 1,\n",
       "  'going': 1,\n",
       "  'had': 1,\n",
       "  'her': 1,\n",
       "  'in': 2,\n",
       "  'is': 2,\n",
       "  'it': 1,\n",
       "  'leave': 1,\n",
       "  'little': 1,\n",
       "  'negotiate': 1,\n",
       "  'of': 2,\n",
       "  'on': 3,\n",
       "  'outline': 1,\n",
       "  'party': 1,\n",
       "  'plan': 1,\n",
       "  'political': 1,\n",
       "  'published': 1,\n",
       "  'reminder': 1,\n",
       "  'said': 1,\n",
       "  'seeking': 1,\n",
       "  'sides': 1,\n",
       "  'start': 1,\n",
       "  'support': 1,\n",
       "  'terms': 1,\n",
       "  'that': 1,\n",
       "  'the': 6,\n",
       "  'to': 4,\n",
       "  'two': 2,\n",
       "  'very': 1,\n",
       "  'vote': 1,\n",
       "  'was': 2,\n",
       "  'week': 1,\n",
       "  'well': 1,\n",
       "  'withdrawal': 1,\n",
       "  'word': 1})"
      ]
     },
     "execution_count": 2,
     "metadata": {},
     "output_type": "execute_result"
    }
   ],
   "source": [
    "import nltk\n",
    "import pprint\n",
    "\n",
    "content_matrix=[]\n",
    "\n",
    "def text_spliter(T):\n",
    "    dictionary={}\n",
    "    data=dictionary \n",
    "    sentences=nltk.sent_tokenize(T)\n",
    "    for s in sentences:\n",
    "        word=nltk.word_tokenize(s)\n",
    "        for w in word:\n",
    "            if w.isalpha():\n",
    "                content_matrix.append(w)\n",
    "                if w in data:\n",
    "                    data[w]=data[w]+1\n",
    "                else:\n",
    "                    data[w]=1\n",
    "    return (content_matrix, data)\n",
    "\n",
    "texto=\"BBC deputy political editor John Pienaar said Mr Johnson's 5,000 word article, published two days before the start of the Conservative Party conference, was a reminder that the PM's plan had very little support in the party and it was going to be a difficult week for her in Birmingham. The UK is due to leave the EU on 29 March 2019. The two sides are seeking to negotiate the terms of exit, as well as an outline agreement on future co-operation. Parliament is to vote on any withdrawal deal.\"\n",
    "\n",
    "text_spliter(texto)"
   ]
  },
  {
   "cell_type": "code",
   "execution_count": 3,
   "metadata": {},
   "outputs": [
    {
     "name": "stdout",
     "output_type": "stream",
     "text": [
      "dict1 68\n",
      "dict2 43\n"
     ]
    },
    {
     "data": {
      "text/plain": [
       "43"
      ]
     },
     "execution_count": 3,
     "metadata": {},
     "output_type": "execute_result"
    }
   ],
   "source": [
    "def common_words(Ti,Tj):\n",
    "    Di=text_spliter(Ti)[1]\n",
    "    Dj=text_spliter(Tj)[1]\n",
    "    \n",
    "    common=0\n",
    "    \n",
    "    for key in Di:\n",
    "        if key in Dj:\n",
    "            common+=1\n",
    "    \n",
    "    return common\n",
    "\n",
    "texto1=\"BBC deputy political editor John Pienaar said Mr Johnson's 5,000 word article, published two days before the start of the Conservative Party conference, was a reminder that the PM's plan had very little support in the party and it was going to be a difficult week for her in Birmingham. The UK is due to leave the EU on 29 March 2019. The two sides are seeking to negotiate the terms of exit, as well as an outline agreement on future co-operation. Parliament is to vote on any withdrawal deal.\"\n",
    "texto2=\"BBC deputy political editor John Pienaar said Mr Johnson's 5,000 word article, published two days before the start of the Conservative Party conference, was a reminder that the PM's plan had very little support in the party and it was going to be a difficult week for her in Birmingham.\"\n",
    "print(\"dict1\", len(text_spliter(texto1)[1]))\n",
    "print(\"dict2\", len(text_spliter(texto2)[1]))\n",
    "\n",
    "common_words(texto1,texto2)\n",
    "\n",
    "    \n",
    "    \n",
    "    "
   ]
  },
  {
   "cell_type": "code",
   "execution_count": 31,
   "metadata": {},
   "outputs": [
    {
     "name": "stdout",
     "output_type": "stream",
     "text": [
      "{'DT': 5, 'VBZ': 2, 'NN': 4, '.': 3, 'PRP': 1, 'MD': 1, 'VB': 1, 'IN': 1}\n"
     ]
    }
   ],
   "source": [
    "import nltk\n",
    "\n",
    "\n",
    "text = 'This is a table. We should table this offer. The table is in the center.'\n",
    "sentences=nltk.sent_tokenize(text)\n",
    "types={}\n",
    "for s in sentences:\n",
    "    words=nltk.word_tokenize(s)\n",
    "    tag=nltk.pos_tag(words)\n",
    "    for i in tag:\n",
    "        type=i[1]\n",
    "        if type in types:\n",
    "            types[type]=types[type]+1\n",
    "        else:\n",
    "            types[type]=1\n",
    "\n",
    "print(types)"
   ]
  },
  {
   "cell_type": "code",
   "execution_count": 37,
   "metadata": {},
   "outputs": [
    {
     "name": "stdout",
     "output_type": "stream",
     "text": [
      "['center', 'in', 'is', 'offer', 'should', 'table', 'the', 'this', 'we']\n",
      "[1 1 2 1 1 3 2 2 1]\n"
     ]
    }
   ],
   "source": [
    "from sklearn.feature_extraction.text import CountVectorizer\n",
    "\n",
    "text_raw=[text] #this is necessary for input in fit_transform function\n",
    "cv = CountVectorizer()\n",
    "cv_fit = cv.fit_transform(text_raw)\n",
    "print(cv.get_feature_names())\n",
    "print(cv_fit.toarray().sum(axis=0))\n"
   ]
  },
  {
   "cell_type": "code",
   "execution_count": 51,
   "metadata": {},
   "outputs": [
    {
     "name": "stdout",
     "output_type": "stream",
     "text": [
      "['000', '2019', '29', 'agreement', 'an', 'and', 'any', 'are', 'article', 'as', 'bbc', 'be', 'before', 'birmingham', 'center', 'co', 'conference', 'conservative', 'days', 'deal', 'deputy', 'difficult', 'due', 'editor', 'eu', 'exit', 'for', 'future', 'going', 'had', 'her', 'in', 'is', 'it', 'john', 'johnson', 'leave', 'little', 'march', 'mr', 'negotiate', 'of', 'offer', 'on', 'operation', 'outline', 'parliament', 'party', 'pienaar', 'plan', 'pm', 'political', 'published', 'reminder', 'said', 'seeking', 'should', 'sides', 'start', 'support', 'table', 'terms', 'that', 'the', 'this', 'to', 'two', 'uk', 'very', 'vote', 'was', 'we', 'week', 'well', 'withdrawal', 'word']\n",
      "[[1.         0.71581707 0.13117332]]\n"
     ]
    }
   ],
   "source": [
    "from sklearn.feature_extraction.text import TfidfVectorizer\n",
    "from sklearn.metrics.pairwise import cosine_similarity\n",
    "\n",
    "all_texts_raw=[texto2, texto1, text]\n",
    "\n",
    "tfv = TfidfVectorizer()\n",
    "\n",
    "tfidf_matrix = tfv.fit_transform(all_texts_raw) \n",
    "#Now we have the TF-IDF matrix for the document (the number of rows of the matrix)  \n",
    "#with tf-idf terms (the number of columns of the matrix)\n",
    "\n",
    "print(tfv.get_feature_names())\n",
    "\n",
    "cos=cosine_similarity(tfidf_matrix[0:1], tfidf_matrix)\n",
    "#The resulting array is the Cosine Similarity between the first document with all documents in the set. \n",
    "#The first value of the array is 1.0 because it is the Cosine Similarity between the first document with itself.\n",
    "\n",
    "print(cos)\n"
   ]
  },
  {
   "cell_type": "code",
   "execution_count": null,
   "metadata": {},
   "outputs": [],
   "source": []
  }
 ],
 "metadata": {
  "kernelspec": {
   "display_name": "Python 3",
   "language": "python",
   "name": "python3"
  },
  "language_info": {
   "codemirror_mode": {
    "name": "ipython",
    "version": 3
   },
   "file_extension": ".py",
   "mimetype": "text/x-python",
   "name": "python",
   "nbconvert_exporter": "python",
   "pygments_lexer": "ipython3",
   "version": "3.6.4"
  }
 },
 "nbformat": 4,
 "nbformat_minor": 2
}
