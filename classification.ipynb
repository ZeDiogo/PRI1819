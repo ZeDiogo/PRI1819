{
 "cells": [
  {
   "cell_type": "code",
   "execution_count": 61,
   "metadata": {},
   "outputs": [],
   "source": [
    "from nltk.stem.snowball import SnowballStemmer\n",
    "\n",
    "import nltk\n",
    "import spacy\n",
    "#python -m spacy download en\n",
    "from nltk.stem import WordNetLemmatizer\n",
    "\n",
    "def tokenizer1(doc):\n",
    "    spacy.load('en')\n",
    "    lemmatizer = spacy.lang.en.English()\n",
    "    tokens = lemmatizer(doc)\n",
    "    doc=\" \".join([token.lemma_ for token in tokens])\n",
    "    return doc\n",
    "\n",
    "def tokenizer2(doc):\n",
    "    wordnet_lemmatizer = WordNetLemmatizer()\n",
    "    doc = \" \".join([wordnet_lemmatizer.lemmatize(w, pos='v') for w in nltk.word_tokenize(doc)])\n",
    "    return doc\n",
    "\n",
    "def tokenizer3(doc):\n",
    "    english_stemmer = SnowballStemmer(\"english\")\n",
    "    doc = \" \".join([english_stemmer.stem(w) for w in nltk.word_tokenize(doc)])\n",
    "    return doc"
   ]
  },
  {
   "cell_type": "code",
   "execution_count": 62,
   "metadata": {},
   "outputs": [],
   "source": [
    "#give cleanData as pre-process\n",
    "import string\n",
    "import re\n",
    "from string import punctuation\n",
    "\n",
    "def cleanData(text):\n",
    "    txt = str(text)\n",
    "    \n",
    "    # Replace apostrophes with standard lexicons\n",
    "    txt = txt.replace(\"isn't\", \"is not\")\n",
    "    txt = txt.replace(\"aren't\", \"are not\")\n",
    "    txt = txt.replace(\"ain't\", \"am not\")\n",
    "    txt = txt.replace(\"won't\", \"will not\")\n",
    "    txt = txt.replace(\"didn't\", \"did not\")\n",
    "    txt = txt.replace(\"shan't\", \"shall not\")\n",
    "    txt = txt.replace(\"haven't\", \"have not\")\n",
    "    txt = txt.replace(\"hadn't\", \"had not\")\n",
    "    txt = txt.replace(\"hasn't\", \"has not\")\n",
    "    txt = txt.replace(\"don't\", \"do not\")\n",
    "    txt = txt.replace(\"wasn't\", \"was not\")\n",
    "    txt = txt.replace(\"weren't\", \"were not\")\n",
    "    txt = txt.replace(\"doesn't\", \"does not\")\n",
    "    txt = re.sub(r\"\\'ve\", \" have \", txt)\n",
    "    txt = re.sub(r\"can't\", \"cannot \", txt)\n",
    "    txt = re.sub(r\"n't\", \" not \", txt)\n",
    "    txt = re.sub(r\"I'm\", \"I am\", txt)\n",
    "    txt = re.sub(r\" m \", \" am \", txt)\n",
    "    txt = re.sub(r\"\\'re\", \" are \", txt)\n",
    "    txt = re.sub(r\"\\'d\", \" would \", txt)\n",
    "    txt = re.sub(r\"\\'ll\", \" will \", txt)\n",
    "    \n",
    "    # Remove urls and emails\n",
    "    txt = re.sub(r'^https?:\\/\\/.*[\\r\\n]*', ' ', txt, flags=re.MULTILINE)\n",
    "    txt = re.sub(r'[\\w\\.-]+@[\\w\\.-]+', ' ', txt, flags=re.MULTILINE)\n",
    "    \n",
    "    # Remove punctuation from text\n",
    "    txt = ''.join([c for c in text if c not in punctuation])\n",
    "#     txt = txt.replace(\".\", \" \")\n",
    "#     txt = txt.replace(\":\", \" \")\n",
    "#     txt = txt.replace(\"!\", \" \")\n",
    "#     txt = txt.replace(\"&\", \" \")\n",
    "#     txt = txt.replace(\"#\", \" \")\n",
    "    \n",
    "    # Remove all symbols\n",
    "    txt = re.sub(r'[^A-Za-z0-9\\s]',r' ',txt)\n",
    "    txt = re.sub(r'\\n',r' ',txt)\n",
    "    \n",
    "    txt = re.sub(r'[0-9]',r' ',txt)\n",
    "    \n",
    "    return txt\n",
    "\n",
    "# clean description\n",
    "#df['Text'] = df['Text'].map(lambda x: cleanData(x))\n"
   ]
  },
  {
   "cell_type": "code",
   "execution_count": 63,
   "metadata": {},
   "outputs": [],
   "source": [
    "from sklearn.feature_extraction.text import TfidfVectorizer\n",
    "from sklearn.naive_bayes import MultinomialNB\n",
    "from sklearn import metrics\n",
    "from sklearn import preprocessing\n",
    "from sklearn.model_selection import cross_val_score\n",
    "from sklearn.model_selection import train_test_split\n",
    "from sklearn.feature_extraction import stop_words\n",
    "from sklearn.neighbors import KNeighborsClassifier\n",
    "from sklearn.model_selection import GridSearchCV\n",
    "from sklearn.linear_model import Perceptron\n",
    "from sklearn.neural_network import MLPClassifier\n",
    "from sklearn.ensemble import RandomForestClassifier\n",
    "from sklearn.tree import DecisionTreeRegressor\n",
    "from sklearn.svm import LinearSVC\n",
    "from sklearn.svm import SVC\n",
    "import pandas as pd\n",
    "import numpy as np\n",
    "import autosklearn.classification\n",
    "from sklearn.metrics import accuracy_score\n",
    "\n",
    "class Data:\n",
    "    def __init__(self, data):\n",
    "      \n",
    "        self.data = pd.read_csv(data)\n",
    "    \n",
    "    def createClasses(self):\n",
    "        le = preprocessing.LabelEncoder()\n",
    "        le.fit(self.data.party)\n",
    "        self.data[\"Class\"]=list(le.transform(self.data.party))\n",
    "        \n",
    "    def callcleanData(self):\n",
    "        self.data.text = self.data.text.str.replace(\"[^a-zA-Z]\", \" \")\n",
    "        self.data.text=self.data.text.map(lambda x: cleanData(x))\n",
    "        \n",
    "    def createPartitions(self):\n",
    "        self.train_feature, self.test_feature, self.train_class, self.test_class = train_test_split(self.data.text, self.data.Class, test_size=0.20,random_state=1)\n",
    "        \n",
    "   \n",
    "    def createVectors(self, stopwords=False, useidf=False, ngram=(1,1), tokenizer=None):\n",
    "        if (stopwords==True):\n",
    "            vectorizer = TfidfVectorizer(use_idf=useidf, stop_words='english', ngram_range=ngram, min_df=3, max_df=0.9, tokenizer=tokenizer)\n",
    "        else:   \n",
    "            vectorizer = TfidfVectorizer(use_idf=useidf, min_df=3, max_df=0.9, ngram_range=ngram, tokenizer=tokenizer)\n",
    "\n",
    "        self.trainvec = vectorizer.fit_transform(self.train_feature)\n",
    "        self.testvec = vectorizer.transform(self.test_feature)\n",
    "    \n",
    "    def createClassifier(self, mode):\n",
    "        # SINGLE CLASSIFIERS\n",
    "        \n",
    "        #classifiers=[\"MultinomialNB\", \"KNeighborsClassifier\", \"Perceptron\", \"LinearSVC\"]\n",
    "        #classifiers=[\"MLPClassifier\", \"DecisionTree\", \"RandomForest\"]\n",
    "        classifiers=[\"LinearSVC\"]\n",
    "        opt_classifiers=[]\n",
    "        scores_array=[]\n",
    "        \n",
    "        #For each classifier (cls) we build an optimal version: opt_cls\n",
    "        if (mode==\"normal\"):\n",
    "            for cls in classifiers:\n",
    "                opt_cls=self.optimizeClassifier(cls) \n",
    "                opt_classifiers.append(opt_cls)\n",
    "                scores_array.append(opt_cls[2])\n",
    "\n",
    "            #We fetch the best classifier amongst the optimal versions built previously\n",
    "            max_acc=max(scores_array)\n",
    "            index=scores_array.index(max_acc)\n",
    "            best_cls=opt_classifiers[index]\n",
    "\n",
    "            return best_cls\n",
    "\n",
    "        #AUTOMATIC CLASSIFIER - EMSEMBLE\n",
    "        if (mode==\"auto\"):\n",
    "            classifier = autosklearn.classification.AutoSklearnClassifier()\n",
    "            classifier.fit(self.trainvec, self.train_class)\n",
    "            predictions = classifier.predict(self.testvec)\n",
    "            accuracy_auto=accuracy_score(self.test_class, predictions)\n",
    "            return accuracy_auto\n",
    "    \n",
    "    def optimizeClassifier(self, classifier):\n",
    "        if (classifier==\"MLPClassifier\"):\n",
    "            act_parameters = ['relu', 'logistic']\n",
    "            nn_scores=[]\n",
    "            for act in act_parameters:\n",
    "                nn=MLPClassifier(activation=act)\n",
    "                nn.fit(self.trainvec, self.train_class)\n",
    "                predictions=nn.predict(self.testvec)\n",
    "                acc = accuracy_score(self.test_class, predictions)\n",
    "                nn_scores.append(acc)\n",
    "                \n",
    "            max_acc=max(nn_scores)\n",
    "            index=nn_scores.index(max_acc)\n",
    "            best=act_parameters[index]\n",
    "        \n",
    "        if (classifier==\"DecisionTree\"):\n",
    "            samplesdt_parameters = [1, 5]\n",
    "            dt_scores=[]\n",
    "            for sample in samplesdt_parameters:\n",
    "                dt=DecisionTreeRegressor(min_samples_leaf=sample)\n",
    "                dt.fit(self.trainvec, self.train_class)\n",
    "                predictions=dt.predict(self.testvec)\n",
    "                acc = accuracy_score(self.test_class, predictions.round())\n",
    "                dt_scores.append(acc)\n",
    "                \n",
    "            max_acc=max(dt_scores)\n",
    "            index=dt_scores.index(max_acc)\n",
    "            best=samplesdt_parameters[index]\n",
    "            \n",
    "        if (classifier==\"RandomForest\"):\n",
    "            samplesrf_parameters = [1, 5]\n",
    "            rf_scores=[]\n",
    "            for sample in samplesrf_parameters:\n",
    "                rf=RandomForestClassifier(min_samples_leaf=sample)\n",
    "                rf.fit(self.trainvec, self.train_class)\n",
    "                predictions=rf.predict(self.testvec)\n",
    "                acc = accuracy_score(self.test_class, predictions.round())\n",
    "                rf_scores.append(acc)\n",
    "                \n",
    "            max_acc=max(rf_scores)\n",
    "            index=rf_scores.index(max_acc)\n",
    "            best=samplesrf_parameters[index]\n",
    "                    \n",
    "        if (classifier==\"MultinomialNB\"):\n",
    "            alpha_parameters = [0.1,0.5,1.0]\n",
    "            mnb_scores=[]\n",
    "            for alpha in alpha_parameters:\n",
    "                mnb=MultinomialNB(alpha=alpha)\n",
    "                mnb.fit(self.trainvec, self.train_class)\n",
    "                predictions=mnb.predict(self.testvec)\n",
    "                acc = accuracy_score(self.test_class, predictions)\n",
    "                mnb_scores.append(acc)\n",
    "                \n",
    "            max_acc=max(mnb_scores)\n",
    "            index=mnb_scores.index(max_acc)\n",
    "            best=alpha_parameters[index]\n",
    "\n",
    "        if (classifier==\"KNeighborsClassifier\"):          \n",
    "            k_parameters = [3,5,7,9,11]\n",
    "            knn_scores=[]\n",
    "            for k in k_parameters:\n",
    "                knn=KNeighborsClassifier(n_neighbors=k)\n",
    "                knn.fit(self.trainvec, self.train_class)\n",
    "                predictions=knn.predict(self.testvec)\n",
    "                acc = accuracy_score(self.test_class, predictions)\n",
    "                knn_scores.append(acc)\n",
    "                \n",
    "            max_acc=max(knn_scores)\n",
    "            index=knn_scores.index(max_acc)\n",
    "            best=k_parameters[index]\n",
    "        \n",
    "        if (classifier==\"Perceptron\"):          \n",
    "            p_parameters = ['None', 'l2' , 'l1' , 'elasticnet']\n",
    "            perc_scores=[]\n",
    "            for p in p_parameters:\n",
    "                perc=Perceptron(max_iter=1000, tol=1e-3, penalty=p)\n",
    "                perc.fit(self.trainvec, self.train_class)\n",
    "                predictions=perc.predict(self.testvec)\n",
    "                acc = accuracy_score(self.test_class, predictions)\n",
    "                perc_scores.append(acc)\n",
    "                \n",
    "            max_acc=max(perc_scores)\n",
    "            index=perc_scores.index(max_acc)\n",
    "            best=p_parameters[index]\n",
    "            \n",
    "        if (classifier==\"LinearSVC\"):\n",
    "            #s_parameters = ['linear', 'rbf']\n",
    "            s_parameters=['linear']\n",
    "            svc_scores=[]\n",
    "            for s in s_parameters:\n",
    "                svc=SVC(C=1.0, cache_size=200, class_weight=None, coef0=0.0, decision_function_shape='ovr', degree=3, gamma='auto', kernel=s, max_iter=-1, probability=False, random_state=None, shrinking=True,tol=0.001, verbose=False)\n",
    "                svc.fit(self.trainvec, self.train_class)\n",
    "                predictions=svc.predict(self.testvec)\n",
    "                acc = accuracy_score(self.test_class, predictions)\n",
    "                svc_scores.append(acc)\n",
    "                \n",
    "            max_acc=max(svc_scores)\n",
    "            index=svc_scores.index(max_acc)\n",
    "            best=s_parameters[index]\n",
    "       \n",
    "        opt_cls=[classifier, best, max_acc]\n",
    "        return  opt_cls\n",
    "  "
   ]
  },
  {
   "cell_type": "code",
   "execution_count": 76,
   "metadata": {},
   "outputs": [
    {
     "name": "stdout",
     "output_type": "stream",
     "text": [
      "AxesSubplot(0.125,0.125;0.775x0.755)\n",
      "\n",
      "COMPLETE INFO:\n",
      "count                 16726\n",
      "unique                   11\n",
      "top       Liberal Democrats\n",
      "freq                   3013\n",
      "Name: party, dtype: object\n",
      "\n",
      "INFO OF LIBERALS:\n",
      "<class 'pandas.core.frame.DataFrame'>\n",
      "Int64Index: 3013 entries, 17 to 10709\n",
      "Data columns (total 5 columns):\n",
      "text            3013 non-null object\n",
      "manifesto_id    3013 non-null object\n",
      "party           3013 non-null object\n",
      "date            3013 non-null int64\n",
      "title           3013 non-null object\n",
      "dtypes: int64(1), object(4)\n",
      "memory usage: 141.2+ KB\n",
      "\n",
      "PERCENTAGE OF LIBERALS: 0.18013870620590697\n"
     ]
    },
    {
     "data": {
      "image/png": "[encoded data removed]",
      "text/plain": [
       "<Figure size 432x288 with 1 Axes>"
      ]
     },
     "metadata": {},
     "output_type": "display_data"
    }
   ],
   "source": [
    "#Classes Distributions - BASELINE\n",
    "file=open(\"en_docs_clean.csv\", \"r\")\n",
    "data = Data(file)\n",
    "dist=data.data.party.value_counts().plot.bar()\n",
    "print(dist)\n",
    "\n",
    "print()\n",
    "print(\"COMPLETE INFO:\")\n",
    "print(data.data.party.describe())\n",
    "print()\n",
    "Liberal=data.data[data3.data.party==\"Liberal Democrats\"]\n",
    "print(\"INFO OF LIBERALS:\")\n",
    "Liberal.info()\n",
    "\n",
    "print()\n",
    "print(\"PERCENTAGE OF LIBERALS:\", 3013/16726)"
   ]
  },
  {
   "cell_type": "code",
   "execution_count": 30,
   "metadata": {
    "scrolled": true
   },
   "outputs": [],
   "source": [
    "\n",
    "data_combinations=[]\n",
    "\n",
    "for value1 in [True, False]:\n",
    "    for value2 in [True, False]:\n",
    "        file=open(\"en_docs_clean.csv\", \"r\")\n",
    "        data = Data(file)\n",
    "        data.createClasses()\n",
    "        data.createPartitions()\n",
    "        data.createVectors(stopwords=value1, useidf=value2, ngram=(1,1))\n",
    "        data_combinations.append(data)\n"
   ]
  },
  {
   "cell_type": "code",
   "execution_count": 20,
   "metadata": {},
   "outputs": [],
   "source": [
    "classifiers_normal_combinations=[]\n",
    "for data in data_combinations:  \n",
    "    normal_classifier=data.createClassifier(\"normal\")\n",
    "    classifiers_normal_combinations.append(normal_classifier)\n"
   ]
  },
  {
   "cell_type": "code",
   "execution_count": 21,
   "metadata": {},
   "outputs": [
    {
     "name": "stdout",
     "output_type": "stream",
     "text": [
      "[['LinearSVC', 'linear', 0.4811715481171548], ['LinearSVC', 'linear', 0.4781829049611476], ['LinearSVC', 'linear', 0.5059772863120143], ['LinearSVC', 'linear', 0.49222952779438134]]\n"
     ]
    }
   ],
   "source": [
    "print(classifiers_normal_combinations)"
   ]
  },
  {
   "cell_type": "markdown",
   "metadata": {},
   "source": [
    "First Round of Classifiers Result: Using IDF but no stopwords, and a LinearSVC classifier we obtained 50,6% accuracy."
   ]
  },
  {
   "cell_type": "code",
   "execution_count": 27,
   "metadata": {},
   "outputs": [
    {
     "name": "stderr",
     "output_type": "stream",
     "text": [
      "/home/andreia/anaconda3/lib/python3.6/site-packages/sklearn/neural_network/multilayer_perceptron.py:564: ConvergenceWarning: Stochastic Optimizer: Maximum iterations (200) reached and the optimization hasn't converged yet.\n",
      "  % self.max_iter, ConvergenceWarning)\n",
      "/home/andreia/anaconda3/lib/python3.6/site-packages/sklearn/neural_network/multilayer_perceptron.py:564: ConvergenceWarning: Stochastic Optimizer: Maximum iterations (200) reached and the optimization hasn't converged yet.\n",
      "  % self.max_iter, ConvergenceWarning)\n",
      "/home/andreia/anaconda3/lib/python3.6/site-packages/sklearn/neural_network/multilayer_perceptron.py:564: ConvergenceWarning: Stochastic Optimizer: Maximum iterations (200) reached and the optimization hasn't converged yet.\n",
      "  % self.max_iter, ConvergenceWarning)\n",
      "/home/andreia/anaconda3/lib/python3.6/site-packages/sklearn/neural_network/multilayer_perceptron.py:564: ConvergenceWarning: Stochastic Optimizer: Maximum iterations (200) reached and the optimization hasn't converged yet.\n",
      "  % self.max_iter, ConvergenceWarning)\n"
     ]
    }
   ],
   "source": [
    "classifiers_normal_combinations=[]\n",
    "for data in data_combinations:  \n",
    "    normal_classifier=data.createClassifier(\"normal\")\n",
    "    classifiers_normal_combinations.append(normal_classifier)\n"
   ]
  },
  {
   "cell_type": "code",
   "execution_count": 28,
   "metadata": {},
   "outputs": [
    {
     "name": "stdout",
     "output_type": "stream",
     "text": [
      "[['RandomForest', 1, 0.41721458457860133], ['MLPClassifier', 'logistic', 0.42887029288702927], ['MLPClassifier', 'logistic', 0.4378362223550508], ['MLPClassifier', 'logistic', 0.4533771667662881]]\n"
     ]
    }
   ],
   "source": [
    "print(classifiers_normal_combinations)"
   ]
  },
  {
   "cell_type": "markdown",
   "metadata": {},
   "source": [
    "Second round results: No classifier performed better than before. "
   ]
  },
  {
   "cell_type": "code",
   "execution_count": 31,
   "metadata": {},
   "outputs": [],
   "source": [
    "#From previous results value1=False  and value2=True\n",
    "value1=False\n",
    "value2=True\n",
    "data_gram_combinations=[]\n",
    "for gram in range(2,5):  #testing (1,2), (1,3) (1,4)\n",
    "    file=open(\"en_docs_clean.csv\", \"r\")\n",
    "    data = Data(file)\n",
    "    data.createClasses()\n",
    "    data.createPartitions()\n",
    "    data.createVectors(stopwords=value1, useidf=value2, ngram=(1,gram))\n",
    "    data_gram_combinations.append(data)\n",
    "    "
   ]
  },
  {
   "cell_type": "code",
   "execution_count": 32,
   "metadata": {},
   "outputs": [],
   "source": [
    "classifiers_normal_gram_combinations=[]\n",
    "for data in data_gram_combinations:  \n",
    "    classifier_normal=data.createClassifier(\"normal\")\n",
    "    classifiers_normal_gram_combinations.append(classifier_normal)"
   ]
  },
  {
   "cell_type": "code",
   "execution_count": 33,
   "metadata": {},
   "outputs": [
    {
     "name": "stdout",
     "output_type": "stream",
     "text": [
      "[['LinearSVC', 'linear', 0.5352659892408846], ['LinearSVC', 'linear', 0.5448296473401076], ['LinearSVC', 'linear', 0.5469216975493126]]\n"
     ]
    }
   ],
   "source": [
    "print(classifiers_normal_gram_combinations)"
   ]
  },
  {
   "cell_type": "markdown",
   "metadata": {},
   "source": [
    "Third round results: Using IDF but no stop words, with 4-gram words the accuracy of LinearSVC was 54,7%"
   ]
  },
  {
   "cell_type": "code",
   "execution_count": 64,
   "metadata": {},
   "outputs": [
    {
     "name": "stdout",
     "output_type": "stream",
     "text": [
      "['LinearSVC', 'linear', 0.543335325762104]\n"
     ]
    }
   ],
   "source": [
    "#From previous results value1=False  and value2=True and ngram_range=(1,4) and preprocessing True or False ??\n",
    "value1=False\n",
    "value2=True\n",
    "ngram=(1,4)\n",
    "\n",
    "file=open(\"en_docs_clean.csv\", \"r\")\n",
    "data = Data(file)\n",
    "data.callcleanData()\n",
    "data.createClasses()\n",
    "data.createPartitions()\n",
    "data.createVectors(stopwords=value1, useidf=value2, ngram=ngram)\n",
    "classifier_normal=data.createClassifier(\"normal\")\n",
    "print(classifier_normal)"
   ]
  },
  {
   "cell_type": "markdown",
   "metadata": {},
   "source": [
    "Forth round: no improvement with data cleaning"
   ]
  },
  {
   "cell_type": "code",
   "execution_count": 66,
   "metadata": {},
   "outputs": [],
   "source": [
    "#From previous results value1=False  and value2=True and ngram_range=(1,4) \n",
    "value1=False\n",
    "value2=True\n",
    "ngram=(1,4)\n",
    "data_tok_combinations=[]\n",
    "for tok in [tokenizer1, tokenizer2]:\n",
    "    file=open(\"en_docs_clean.csv\", \"r\")\n",
    "    data = Data(file)\n",
    "    data.createClasses()\n",
    "    data.createPartitions()\n",
    "    data.createVectors(stopwords=value1, useidf=value2, ngram=ngram, tokenizer=tok)\n",
    "    data_tok_combinations.append(data)\n",
    "    "
   ]
  },
  {
   "cell_type": "code",
   "execution_count": 67,
   "metadata": {},
   "outputs": [],
   "source": [
    "classifiers_normal_tok_combinations=[]\n",
    "for data in data_tok_combinations:  \n",
    "    classifier_normal=data.createClassifier(\"normal\")\n",
    "    classifiers_normal_tok_combinations.append(classifier_normal)"
   ]
  },
  {
   "cell_type": "code",
   "execution_count": 68,
   "metadata": {},
   "outputs": [
    {
     "name": "stdout",
     "output_type": "stream",
     "text": [
      "[['LinearSVC', 'linear', 0.5271966527196653], ['LinearSVC', 'linear', 0.5280932456664674]]\n"
     ]
    }
   ],
   "source": [
    "print(classifiers_normal_tok_combinations)"
   ]
  },
  {
   "cell_type": "markdown",
   "metadata": {},
   "source": [
    "Fifth round: no improvement with any lemmatizer"
   ]
  },
  {
   "cell_type": "code",
   "execution_count": 72,
   "metadata": {},
   "outputs": [
    {
     "name": "stdout",
     "output_type": "stream",
     "text": [
      "['LinearSVC', 'linear', 0.5292887029288703]\n"
     ]
    }
   ],
   "source": [
    "#From previous results value1=False  and value2=True and ngram_range=(1,4) \n",
    "value1=False\n",
    "value2=True\n",
    "ngram=(1,4)\n",
    "file=open(\"en_docs_clean.csv\", \"r\")\n",
    "data = Data(file)\n",
    "data.createClasses()\n",
    "data.createPartitions()\n",
    "data.createVectors(stopwords=value1, useidf=value2, ngram=ngram, tokenizer=tokenizer3)\n",
    "classifier_normal=data.createClassifier(\"normal\")\n",
    "print(classifier_normal)    "
   ]
  },
  {
   "cell_type": "markdown",
   "metadata": {},
   "source": [
    "Sixth round: no improvement with stemmer."
   ]
  },
  {
   "cell_type": "code",
   "execution_count": 74,
   "metadata": {},
   "outputs": [],
   "source": [
    "#From previous results value1=False  and value2=True and ngram_range=(1,4) \n",
    "value1=False\n",
    "value2=True\n",
    "data_more_combinations=[]\n",
    "for ngram in [(1,4), (1,5), (1,6), (1,7)]:\n",
    "    file=open(\"en_docs_clean.csv\", \"r\")\n",
    "    data = Data(file)\n",
    "    data.createClasses()\n",
    "    data.createPartitions()\n",
    "    data.createVectors(stopwords=value1, useidf=value2, ngram=ngram)\n",
    "    data_more_combinations.append(data)\n"
   ]
  },
  {
   "cell_type": "code",
   "execution_count": 75,
   "metadata": {},
   "outputs": [],
   "source": [
    "classifiers_normal_more_combinations=[]\n",
    "for data in data_more_combinations:  \n",
    "    classifier_normal=data.createClassifier(\"normal\")\n",
    "    classifiers_normal_tok_combinations.append(classifier_normal)"
   ]
  },
  {
   "cell_type": "code",
   "execution_count": 76,
   "metadata": {},
   "outputs": [
    {
     "name": "stdout",
     "output_type": "stream",
     "text": [
      "[['LinearSVC', 'linear', 0.5271966527196653], ['LinearSVC', 'linear', 0.5280932456664674], ['LinearSVC', 'linear', 0.5469216975493126], ['LinearSVC', 'linear', 0.5460251046025104], ['LinearSVC', 'linear', 0.5460251046025104], ['LinearSVC', 'linear', 0.5457262402869097]]\n"
     ]
    }
   ],
   "source": [
    "print(classifiers_normal_tok_combinations)"
   ]
  },
  {
   "cell_type": "markdown",
   "metadata": {},
   "source": [
    "Seventh round: the gram (1,4) was the optimal. (ignore the first two results in the printed set)"
   ]
  },
  {
   "cell_type": "code",
   "execution_count": 65,
   "metadata": {},
   "outputs": [],
   "source": [
    "#https://www.analyticsvidhya.com/blog/2018/11/tutorial-text-classification-ulmfit-fastai-library/?utm_source=feedburner&utm_medium=email&utm_campaign=Feed%3A%20AnalyticsVidhya%20(Analytics%20Vidhya)&fbclid=IwAR1WB-6GBpZP06PtKJwY-riyKKwpO7bYvP5TpGTMQqrG1_8uPTX6E9EAaks"
   ]
  },
  {
   "cell_type": "code",
   "execution_count": 10,
   "metadata": {
    "scrolled": true
   },
   "outputs": [
    {
     "name": "stderr",
     "output_type": "stream",
     "text": [
      "/home/andreia/anaconda3/lib/python3.6/site-packages/autosklearn/evaluation/train_evaluator.py:197: RuntimeWarning: Mean of empty slice\n",
      "  Y_train_pred = np.nanmean(Y_train_pred_full, axis=0)\n"
     ]
    },
    {
     "name": "stdout",
     "output_type": "stream",
     "text": [
      "[WARNING] [2018-11-24 22:37:11,662:EnsembleBuilder(1):95b2d8432af581591a31164ed55d9a7c] No models better than random - using Dummy Classifier!\n",
      "[WARNING] [2018-11-24 22:37:11,690:EnsembleBuilder(1):95b2d8432af581591a31164ed55d9a7c] No models better than random - using Dummy Classifier!\n",
      "[WARNING] [2018-11-24 22:37:13,694:EnsembleBuilder(1):95b2d8432af581591a31164ed55d9a7c] No models better than random - using Dummy Classifier!\n",
      "[WARNING] [2018-11-24 22:37:15,698:EnsembleBuilder(1):95b2d8432af581591a31164ed55d9a7c] No models better than random - using Dummy Classifier!\n",
      "[WARNING] [2018-11-24 22:37:17,703:EnsembleBuilder(1):95b2d8432af581591a31164ed55d9a7c] No models better than random - using Dummy Classifier!\n",
      "[WARNING] [2018-11-24 22:37:19,707:EnsembleBuilder(1):95b2d8432af581591a31164ed55d9a7c] No models better than random - using Dummy Classifier!\n",
      "[WARNING] [2018-11-24 22:37:21,712:EnsembleBuilder(1):95b2d8432af581591a31164ed55d9a7c] No models better than random - using Dummy Classifier!\n",
      "[WARNING] [2018-11-24 22:37:23,717:EnsembleBuilder(1):95b2d8432af581591a31164ed55d9a7c] No models better than random - using Dummy Classifier!\n",
      "[WARNING] [2018-11-24 22:37:25,723:EnsembleBuilder(1):95b2d8432af581591a31164ed55d9a7c] No models better than random - using Dummy Classifier!\n",
      "[WARNING] [2018-11-24 22:37:27,726:EnsembleBuilder(1):95b2d8432af581591a31164ed55d9a7c] No models better than random - using Dummy Classifier!\n"
     ]
    },
    {
     "name": "stderr",
     "output_type": "stream",
     "text": [
      "/home/andreia/anaconda3/lib/python3.6/site-packages/autosklearn/evaluation/train_evaluator.py:197: RuntimeWarning: Mean of empty slice\n",
      "  Y_train_pred = np.nanmean(Y_train_pred_full, axis=0)\n",
      "/home/andreia/anaconda3/lib/python3.6/site-packages/autosklearn/evaluation/train_evaluator.py:197: RuntimeWarning: Mean of empty slice\n",
      "  Y_train_pred = np.nanmean(Y_train_pred_full, axis=0)\n",
      "/home/andreia/anaconda3/lib/python3.6/site-packages/autosklearn/evaluation/train_evaluator.py:197: RuntimeWarning: Mean of empty slice\n",
      "  Y_train_pred = np.nanmean(Y_train_pred_full, axis=0)\n",
      "/home/andreia/anaconda3/lib/python3.6/site-packages/autosklearn/evaluation/train_evaluator.py:197: RuntimeWarning: Mean of empty slice\n",
      "  Y_train_pred = np.nanmean(Y_train_pred_full, axis=0)\n",
      "/home/andreia/anaconda3/lib/python3.6/site-packages/autosklearn/evaluation/train_evaluator.py:197: RuntimeWarning: Mean of empty slice\n",
      "  Y_train_pred = np.nanmean(Y_train_pred_full, axis=0)\n",
      "/home/andreia/anaconda3/lib/python3.6/site-packages/autosklearn/evaluation/train_evaluator.py:197: RuntimeWarning: Mean of empty slice\n",
      "  Y_train_pred = np.nanmean(Y_train_pred_full, axis=0)\n"
     ]
    },
    {
     "name": "stdout",
     "output_type": "stream",
     "text": [
      "[WARNING] [2018-11-24 22:45:03,624:smac.intensification.intensification.Intensifier] Challenger was the same as the current incumbent; Skipping challenger\n",
      "[WARNING] [2018-11-24 22:45:03,624:smac.intensification.intensification.Intensifier] Challenger was the same as the current incumbent; Skipping challenger\n"
     ]
    },
    {
     "name": "stderr",
     "output_type": "stream",
     "text": [
      "/home/andreia/anaconda3/lib/python3.6/site-packages/autosklearn/evaluation/train_evaluator.py:197: RuntimeWarning: Mean of empty slice\n",
      "  Y_train_pred = np.nanmean(Y_train_pred_full, axis=0)\n",
      "/home/andreia/anaconda3/lib/python3.6/site-packages/autosklearn/evaluation/train_evaluator.py:197: RuntimeWarning: Mean of empty slice\n",
      "  Y_train_pred = np.nanmean(Y_train_pred_full, axis=0)\n",
      "/home/andreia/anaconda3/lib/python3.6/site-packages/autosklearn/evaluation/train_evaluator.py:197: RuntimeWarning: Mean of empty slice\n",
      "  Y_train_pred = np.nanmean(Y_train_pred_full, axis=0)\n",
      "/home/andreia/anaconda3/lib/python3.6/site-packages/autosklearn/evaluation/train_evaluator.py:197: RuntimeWarning: Mean of empty slice\n",
      "  Y_train_pred = np.nanmean(Y_train_pred_full, axis=0)\n",
      "/home/andreia/anaconda3/lib/python3.6/site-packages/autosklearn/evaluation/train_evaluator.py:197: RuntimeWarning: Mean of empty slice\n",
      "  Y_train_pred = np.nanmean(Y_train_pred_full, axis=0)\n",
      "/home/andreia/anaconda3/lib/python3.6/site-packages/autosklearn/evaluation/train_evaluator.py:197: RuntimeWarning: Mean of empty slice\n",
      "  Y_train_pred = np.nanmean(Y_train_pred_full, axis=0)\n",
      "/home/andreia/anaconda3/lib/python3.6/site-packages/autosklearn/evaluation/train_evaluator.py:197: RuntimeWarning: Mean of empty slice\n",
      "  Y_train_pred = np.nanmean(Y_train_pred_full, axis=0)\n",
      "/home/andreia/anaconda3/lib/python3.6/site-packages/autosklearn/evaluation/train_evaluator.py:197: RuntimeWarning: Mean of empty slice\n",
      "  Y_train_pred = np.nanmean(Y_train_pred_full, axis=0)\n",
      "/home/andreia/anaconda3/lib/python3.6/site-packages/autosklearn/evaluation/train_evaluator.py:197: RuntimeWarning: Mean of empty slice\n",
      "  Y_train_pred = np.nanmean(Y_train_pred_full, axis=0)\n",
      "/home/andreia/anaconda3/lib/python3.6/site-packages/autosklearn/evaluation/train_evaluator.py:197: RuntimeWarning: Mean of empty slice\n",
      "  Y_train_pred = np.nanmean(Y_train_pred_full, axis=0)\n",
      "/home/andreia/anaconda3/lib/python3.6/site-packages/autosklearn/evaluation/train_evaluator.py:197: RuntimeWarning: Mean of empty slice\n",
      "  Y_train_pred = np.nanmean(Y_train_pred_full, axis=0)\n",
      "/home/andreia/anaconda3/lib/python3.6/site-packages/autosklearn/evaluation/train_evaluator.py:197: RuntimeWarning: Mean of empty slice\n",
      "  Y_train_pred = np.nanmean(Y_train_pred_full, axis=0)\n",
      "/home/andreia/anaconda3/lib/python3.6/site-packages/autosklearn/evaluation/train_evaluator.py:197: RuntimeWarning: Mean of empty slice\n",
      "  Y_train_pred = np.nanmean(Y_train_pred_full, axis=0)\n",
      "/home/andreia/anaconda3/lib/python3.6/site-packages/autosklearn/evaluation/train_evaluator.py:197: RuntimeWarning: Mean of empty slice\n",
      "  Y_train_pred = np.nanmean(Y_train_pred_full, axis=0)\n",
      "/home/andreia/anaconda3/lib/python3.6/site-packages/autosklearn/evaluation/train_evaluator.py:197: RuntimeWarning: Mean of empty slice\n",
      "  Y_train_pred = np.nanmean(Y_train_pred_full, axis=0)\n",
      "/home/andreia/anaconda3/lib/python3.6/site-packages/autosklearn/evaluation/train_evaluator.py:197: RuntimeWarning: Mean of empty slice\n",
      "  Y_train_pred = np.nanmean(Y_train_pred_full, axis=0)\n",
      "/home/andreia/anaconda3/lib/python3.6/site-packages/autosklearn/evaluation/train_evaluator.py:197: RuntimeWarning: Mean of empty slice\n",
      "  Y_train_pred = np.nanmean(Y_train_pred_full, axis=0)\n",
      "/home/andreia/anaconda3/lib/python3.6/site-packages/autosklearn/evaluation/train_evaluator.py:197: RuntimeWarning: Mean of empty slice\n",
      "  Y_train_pred = np.nanmean(Y_train_pred_full, axis=0)\n",
      "/home/andreia/anaconda3/lib/python3.6/site-packages/autosklearn/evaluation/train_evaluator.py:197: RuntimeWarning: Mean of empty slice\n",
      "  Y_train_pred = np.nanmean(Y_train_pred_full, axis=0)\n",
      "/home/andreia/anaconda3/lib/python3.6/site-packages/autosklearn/evaluation/train_evaluator.py:197: RuntimeWarning: Mean of empty slice\n",
      "  Y_train_pred = np.nanmean(Y_train_pred_full, axis=0)\n",
      "/home/andreia/anaconda3/lib/python3.6/site-packages/autosklearn/evaluation/train_evaluator.py:197: RuntimeWarning: Mean of empty slice\n",
      "  Y_train_pred = np.nanmean(Y_train_pred_full, axis=0)\n",
      "/home/andreia/anaconda3/lib/python3.6/site-packages/autosklearn/evaluation/train_evaluator.py:197: RuntimeWarning: Mean of empty slice\n",
      "  Y_train_pred = np.nanmean(Y_train_pred_full, axis=0)\n",
      "/home/andreia/anaconda3/lib/python3.6/site-packages/autosklearn/evaluation/train_evaluator.py:197: RuntimeWarning: Mean of empty slice\n",
      "  Y_train_pred = np.nanmean(Y_train_pred_full, axis=0)\n",
      "/home/andreia/anaconda3/lib/python3.6/site-packages/autosklearn/evaluation/train_evaluator.py:197: RuntimeWarning: Mean of empty slice\n",
      "  Y_train_pred = np.nanmean(Y_train_pred_full, axis=0)\n",
      "/home/andreia/anaconda3/lib/python3.6/site-packages/autosklearn/evaluation/train_evaluator.py:197: RuntimeWarning: Mean of empty slice\n",
      "  Y_train_pred = np.nanmean(Y_train_pred_full, axis=0)\n",
      "/home/andreia/anaconda3/lib/python3.6/site-packages/autosklearn/evaluation/train_evaluator.py:197: RuntimeWarning: Mean of empty slice\n",
      "  Y_train_pred = np.nanmean(Y_train_pred_full, axis=0)\n",
      "/home/andreia/anaconda3/lib/python3.6/site-packages/autosklearn/evaluation/train_evaluator.py:197: RuntimeWarning: Mean of empty slice\n",
      "  Y_train_pred = np.nanmean(Y_train_pred_full, axis=0)\n",
      "/home/andreia/anaconda3/lib/python3.6/site-packages/autosklearn/evaluation/train_evaluator.py:197: RuntimeWarning: Mean of empty slice\n",
      "  Y_train_pred = np.nanmean(Y_train_pred_full, axis=0)\n",
      "/home/andreia/anaconda3/lib/python3.6/site-packages/autosklearn/evaluation/train_evaluator.py:197: RuntimeWarning: Mean of empty slice\n",
      "  Y_train_pred = np.nanmean(Y_train_pred_full, axis=0)\n",
      "/home/andreia/anaconda3/lib/python3.6/site-packages/autosklearn/evaluation/train_evaluator.py:197: RuntimeWarning: Mean of empty slice\n",
      "  Y_train_pred = np.nanmean(Y_train_pred_full, axis=0)\n",
      "/home/andreia/anaconda3/lib/python3.6/site-packages/autosklearn/evaluation/train_evaluator.py:197: RuntimeWarning: Mean of empty slice\n",
      "  Y_train_pred = np.nanmean(Y_train_pred_full, axis=0)\n",
      "/home/andreia/anaconda3/lib/python3.6/site-packages/autosklearn/evaluation/train_evaluator.py:197: RuntimeWarning: Mean of empty slice\n",
      "  Y_train_pred = np.nanmean(Y_train_pred_full, axis=0)\n",
      "/home/andreia/anaconda3/lib/python3.6/site-packages/autosklearn/evaluation/train_evaluator.py:197: RuntimeWarning: Mean of empty slice\n",
      "  Y_train_pred = np.nanmean(Y_train_pred_full, axis=0)\n",
      "/home/andreia/anaconda3/lib/python3.6/site-packages/autosklearn/evaluation/train_evaluator.py:197: RuntimeWarning: Mean of empty slice\n",
      "  Y_train_pred = np.nanmean(Y_train_pred_full, axis=0)\n",
      "/home/andreia/anaconda3/lib/python3.6/site-packages/autosklearn/evaluation/train_evaluator.py:197: RuntimeWarning: Mean of empty slice\n",
      "  Y_train_pred = np.nanmean(Y_train_pred_full, axis=0)\n",
      "/home/andreia/anaconda3/lib/python3.6/site-packages/autosklearn/evaluation/train_evaluator.py:197: RuntimeWarning: Mean of empty slice\n",
      "  Y_train_pred = np.nanmean(Y_train_pred_full, axis=0)\n",
      "/home/andreia/anaconda3/lib/python3.6/site-packages/autosklearn/evaluation/train_evaluator.py:197: RuntimeWarning: Mean of empty slice\n",
      "  Y_train_pred = np.nanmean(Y_train_pred_full, axis=0)\n",
      "/home/andreia/anaconda3/lib/python3.6/site-packages/autosklearn/evaluation/train_evaluator.py:197: RuntimeWarning: Mean of empty slice\n",
      "  Y_train_pred = np.nanmean(Y_train_pred_full, axis=0)\n",
      "/home/andreia/anaconda3/lib/python3.6/site-packages/autosklearn/evaluation/train_evaluator.py:197: RuntimeWarning: Mean of empty slice\n",
      "  Y_train_pred = np.nanmean(Y_train_pred_full, axis=0)\n",
      "/home/andreia/anaconda3/lib/python3.6/site-packages/autosklearn/evaluation/train_evaluator.py:197: RuntimeWarning: Mean of empty slice\n",
      "  Y_train_pred = np.nanmean(Y_train_pred_full, axis=0)\n",
      "/home/andreia/anaconda3/lib/python3.6/site-packages/autosklearn/evaluation/train_evaluator.py:197: RuntimeWarning: Mean of empty slice\n",
      "  Y_train_pred = np.nanmean(Y_train_pred_full, axis=0)\n",
      "/home/andreia/anaconda3/lib/python3.6/site-packages/autosklearn/evaluation/train_evaluator.py:197: RuntimeWarning: Mean of empty slice\n",
      "  Y_train_pred = np.nanmean(Y_train_pred_full, axis=0)\n",
      "/home/andreia/anaconda3/lib/python3.6/site-packages/autosklearn/evaluation/train_evaluator.py:197: RuntimeWarning: Mean of empty slice\n",
      "  Y_train_pred = np.nanmean(Y_train_pred_full, axis=0)\n",
      "/home/andreia/anaconda3/lib/python3.6/site-packages/autosklearn/evaluation/train_evaluator.py:197: RuntimeWarning: Mean of empty slice\n",
      "  Y_train_pred = np.nanmean(Y_train_pred_full, axis=0)\n"
     ]
    },
    {
     "name": "stderr",
     "output_type": "stream",
     "text": [
      "/home/andreia/anaconda3/lib/python3.6/site-packages/autosklearn/evaluation/train_evaluator.py:197: RuntimeWarning: Mean of empty slice\n",
      "  Y_train_pred = np.nanmean(Y_train_pred_full, axis=0)\n",
      "/home/andreia/anaconda3/lib/python3.6/site-packages/autosklearn/evaluation/train_evaluator.py:197: RuntimeWarning: Mean of empty slice\n",
      "  Y_train_pred = np.nanmean(Y_train_pred_full, axis=0)\n",
      "/home/andreia/anaconda3/lib/python3.6/site-packages/autosklearn/evaluation/train_evaluator.py:197: RuntimeWarning: Mean of empty slice\n",
      "  Y_train_pred = np.nanmean(Y_train_pred_full, axis=0)\n",
      "/home/andreia/anaconda3/lib/python3.6/site-packages/autosklearn/evaluation/train_evaluator.py:197: RuntimeWarning: Mean of empty slice\n",
      "  Y_train_pred = np.nanmean(Y_train_pred_full, axis=0)\n",
      "/home/andreia/anaconda3/lib/python3.6/site-packages/autosklearn/evaluation/train_evaluator.py:197: RuntimeWarning: Mean of empty slice\n",
      "  Y_train_pred = np.nanmean(Y_train_pred_full, axis=0)\n",
      "/home/andreia/anaconda3/lib/python3.6/site-packages/autosklearn/evaluation/train_evaluator.py:197: RuntimeWarning: Mean of empty slice\n",
      "  Y_train_pred = np.nanmean(Y_train_pred_full, axis=0)\n",
      "/home/andreia/anaconda3/lib/python3.6/site-packages/autosklearn/evaluation/train_evaluator.py:197: RuntimeWarning: Mean of empty slice\n",
      "  Y_train_pred = np.nanmean(Y_train_pred_full, axis=0)\n",
      "/home/andreia/anaconda3/lib/python3.6/site-packages/autosklearn/evaluation/train_evaluator.py:197: RuntimeWarning: Mean of empty slice\n",
      "  Y_train_pred = np.nanmean(Y_train_pred_full, axis=0)\n",
      "/home/andreia/anaconda3/lib/python3.6/site-packages/autosklearn/evaluation/train_evaluator.py:197: RuntimeWarning: Mean of empty slice\n",
      "  Y_train_pred = np.nanmean(Y_train_pred_full, axis=0)\n",
      "/home/andreia/anaconda3/lib/python3.6/site-packages/autosklearn/evaluation/train_evaluator.py:197: RuntimeWarning: Mean of empty slice\n",
      "  Y_train_pred = np.nanmean(Y_train_pred_full, axis=0)\n",
      "/home/andreia/anaconda3/lib/python3.6/site-packages/autosklearn/evaluation/train_evaluator.py:197: RuntimeWarning: Mean of empty slice\n",
      "  Y_train_pred = np.nanmean(Y_train_pred_full, axis=0)\n"
     ]
    },
    {
     "name": "stdout",
     "output_type": "stream",
     "text": [
      "[WARNING] [2018-11-24 23:12:05,001:smac.intensification.intensification.Intensifier] Challenger was the same as the current incumbent; Skipping challenger\n",
      "[WARNING] [2018-11-24 23:12:05,001:smac.intensification.intensification.Intensifier] Challenger was the same as the current incumbent; Skipping challenger\n"
     ]
    },
    {
     "name": "stderr",
     "output_type": "stream",
     "text": [
      "/home/andreia/anaconda3/lib/python3.6/site-packages/autosklearn/evaluation/train_evaluator.py:197: RuntimeWarning: Mean of empty slice\n",
      "  Y_train_pred = np.nanmean(Y_train_pred_full, axis=0)\n",
      "/home/andreia/anaconda3/lib/python3.6/site-packages/autosklearn/evaluation/train_evaluator.py:197: RuntimeWarning: Mean of empty slice\n",
      "  Y_train_pred = np.nanmean(Y_train_pred_full, axis=0)\n",
      "/home/andreia/anaconda3/lib/python3.6/site-packages/autosklearn/evaluation/train_evaluator.py:197: RuntimeWarning: Mean of empty slice\n",
      "  Y_train_pred = np.nanmean(Y_train_pred_full, axis=0)\n",
      "/home/andreia/anaconda3/lib/python3.6/site-packages/autosklearn/evaluation/train_evaluator.py:197: RuntimeWarning: Mean of empty slice\n",
      "  Y_train_pred = np.nanmean(Y_train_pred_full, axis=0)\n",
      "/home/andreia/anaconda3/lib/python3.6/site-packages/autosklearn/evaluation/train_evaluator.py:197: RuntimeWarning: Mean of empty slice\n",
      "  Y_train_pred = np.nanmean(Y_train_pred_full, axis=0)\n",
      "/home/andreia/anaconda3/lib/python3.6/site-packages/autosklearn/evaluation/train_evaluator.py:197: RuntimeWarning: Mean of empty slice\n",
      "  Y_train_pred = np.nanmean(Y_train_pred_full, axis=0)\n",
      "/home/andreia/anaconda3/lib/python3.6/site-packages/autosklearn/evaluation/train_evaluator.py:197: RuntimeWarning: Mean of empty slice\n",
      "  Y_train_pred = np.nanmean(Y_train_pred_full, axis=0)\n",
      "/home/andreia/anaconda3/lib/python3.6/site-packages/autosklearn/evaluation/train_evaluator.py:197: RuntimeWarning: Mean of empty slice\n",
      "  Y_train_pred = np.nanmean(Y_train_pred_full, axis=0)\n",
      "/home/andreia/anaconda3/lib/python3.6/site-packages/autosklearn/evaluation/train_evaluator.py:197: RuntimeWarning: Mean of empty slice\n",
      "  Y_train_pred = np.nanmean(Y_train_pred_full, axis=0)\n",
      "/home/andreia/anaconda3/lib/python3.6/site-packages/autosklearn/evaluation/train_evaluator.py:197: RuntimeWarning: Mean of empty slice\n",
      "  Y_train_pred = np.nanmean(Y_train_pred_full, axis=0)\n",
      "/home/andreia/anaconda3/lib/python3.6/site-packages/autosklearn/evaluation/train_evaluator.py:197: RuntimeWarning: Mean of empty slice\n",
      "  Y_train_pred = np.nanmean(Y_train_pred_full, axis=0)\n",
      "/home/andreia/anaconda3/lib/python3.6/site-packages/autosklearn/evaluation/train_evaluator.py:197: RuntimeWarning: Mean of empty slice\n",
      "  Y_train_pred = np.nanmean(Y_train_pred_full, axis=0)\n",
      "/home/andreia/anaconda3/lib/python3.6/site-packages/autosklearn/evaluation/train_evaluator.py:197: RuntimeWarning: Mean of empty slice\n",
      "  Y_train_pred = np.nanmean(Y_train_pred_full, axis=0)\n",
      "/home/andreia/anaconda3/lib/python3.6/site-packages/autosklearn/evaluation/train_evaluator.py:197: RuntimeWarning: Mean of empty slice\n",
      "  Y_train_pred = np.nanmean(Y_train_pred_full, axis=0)\n",
      "/home/andreia/anaconda3/lib/python3.6/site-packages/autosklearn/evaluation/train_evaluator.py:197: RuntimeWarning: Mean of empty slice\n",
      "  Y_train_pred = np.nanmean(Y_train_pred_full, axis=0)\n",
      "/home/andreia/anaconda3/lib/python3.6/site-packages/autosklearn/evaluation/train_evaluator.py:197: RuntimeWarning: Mean of empty slice\n",
      "  Y_train_pred = np.nanmean(Y_train_pred_full, axis=0)\n",
      "/home/andreia/anaconda3/lib/python3.6/site-packages/autosklearn/evaluation/train_evaluator.py:197: RuntimeWarning: Mean of empty slice\n",
      "  Y_train_pred = np.nanmean(Y_train_pred_full, axis=0)\n",
      "/home/andreia/anaconda3/lib/python3.6/site-packages/autosklearn/evaluation/train_evaluator.py:197: RuntimeWarning: Mean of empty slice\n",
      "  Y_train_pred = np.nanmean(Y_train_pred_full, axis=0)\n",
      "/home/andreia/anaconda3/lib/python3.6/site-packages/autosklearn/evaluation/train_evaluator.py:197: RuntimeWarning: Mean of empty slice\n",
      "  Y_train_pred = np.nanmean(Y_train_pred_full, axis=0)\n",
      "/home/andreia/anaconda3/lib/python3.6/site-packages/autosklearn/evaluation/train_evaluator.py:197: RuntimeWarning: Mean of empty slice\n",
      "  Y_train_pred = np.nanmean(Y_train_pred_full, axis=0)\n",
      "/home/andreia/anaconda3/lib/python3.6/site-packages/autosklearn/evaluation/train_evaluator.py:197: RuntimeWarning: Mean of empty slice\n",
      "  Y_train_pred = np.nanmean(Y_train_pred_full, axis=0)\n",
      "/home/andreia/anaconda3/lib/python3.6/site-packages/autosklearn/evaluation/train_evaluator.py:197: RuntimeWarning: Mean of empty slice\n",
      "  Y_train_pred = np.nanmean(Y_train_pred_full, axis=0)\n",
      "/home/andreia/anaconda3/lib/python3.6/site-packages/autosklearn/evaluation/train_evaluator.py:197: RuntimeWarning: Mean of empty slice\n",
      "  Y_train_pred = np.nanmean(Y_train_pred_full, axis=0)\n",
      "/home/andreia/anaconda3/lib/python3.6/site-packages/autosklearn/evaluation/train_evaluator.py:197: RuntimeWarning: Mean of empty slice\n",
      "  Y_train_pred = np.nanmean(Y_train_pred_full, axis=0)\n",
      "/home/andreia/anaconda3/lib/python3.6/site-packages/autosklearn/evaluation/train_evaluator.py:197: RuntimeWarning: Mean of empty slice\n",
      "  Y_train_pred = np.nanmean(Y_train_pred_full, axis=0)\n",
      "/home/andreia/anaconda3/lib/python3.6/site-packages/autosklearn/evaluation/train_evaluator.py:197: RuntimeWarning: Mean of empty slice\n",
      "  Y_train_pred = np.nanmean(Y_train_pred_full, axis=0)\n",
      "/home/andreia/anaconda3/lib/python3.6/site-packages/autosklearn/evaluation/train_evaluator.py:197: RuntimeWarning: Mean of empty slice\n",
      "  Y_train_pred = np.nanmean(Y_train_pred_full, axis=0)\n",
      "/home/andreia/anaconda3/lib/python3.6/site-packages/autosklearn/evaluation/train_evaluator.py:197: RuntimeWarning: Mean of empty slice\n",
      "  Y_train_pred = np.nanmean(Y_train_pred_full, axis=0)\n",
      "/home/andreia/anaconda3/lib/python3.6/site-packages/autosklearn/evaluation/train_evaluator.py:197: RuntimeWarning: Mean of empty slice\n",
      "  Y_train_pred = np.nanmean(Y_train_pred_full, axis=0)\n",
      "/home/andreia/anaconda3/lib/python3.6/site-packages/autosklearn/evaluation/train_evaluator.py:197: RuntimeWarning: Mean of empty slice\n",
      "  Y_train_pred = np.nanmean(Y_train_pred_full, axis=0)\n",
      "/home/andreia/anaconda3/lib/python3.6/site-packages/autosklearn/evaluation/train_evaluator.py:197: RuntimeWarning: Mean of empty slice\n",
      "  Y_train_pred = np.nanmean(Y_train_pred_full, axis=0)\n",
      "/home/andreia/anaconda3/lib/python3.6/site-packages/autosklearn/evaluation/train_evaluator.py:197: RuntimeWarning: Mean of empty slice\n",
      "  Y_train_pred = np.nanmean(Y_train_pred_full, axis=0)\n",
      "/home/andreia/anaconda3/lib/python3.6/site-packages/autosklearn/evaluation/train_evaluator.py:197: RuntimeWarning: Mean of empty slice\n",
      "  Y_train_pred = np.nanmean(Y_train_pred_full, axis=0)\n",
      "/home/andreia/anaconda3/lib/python3.6/site-packages/autosklearn/evaluation/train_evaluator.py:197: RuntimeWarning: Mean of empty slice\n",
      "  Y_train_pred = np.nanmean(Y_train_pred_full, axis=0)\n",
      "/home/andreia/anaconda3/lib/python3.6/site-packages/autosklearn/evaluation/train_evaluator.py:197: RuntimeWarning: Mean of empty slice\n",
      "  Y_train_pred = np.nanmean(Y_train_pred_full, axis=0)\n",
      "/home/andreia/anaconda3/lib/python3.6/site-packages/autosklearn/evaluation/train_evaluator.py:197: RuntimeWarning: Mean of empty slice\n",
      "  Y_train_pred = np.nanmean(Y_train_pred_full, axis=0)\n",
      "/home/andreia/anaconda3/lib/python3.6/site-packages/autosklearn/evaluation/train_evaluator.py:197: RuntimeWarning: Mean of empty slice\n",
      "  Y_train_pred = np.nanmean(Y_train_pred_full, axis=0)\n",
      "/home/andreia/anaconda3/lib/python3.6/site-packages/autosklearn/evaluation/train_evaluator.py:197: RuntimeWarning: Mean of empty slice\n",
      "  Y_train_pred = np.nanmean(Y_train_pred_full, axis=0)\n",
      "/home/andreia/anaconda3/lib/python3.6/site-packages/autosklearn/evaluation/train_evaluator.py:197: RuntimeWarning: Mean of empty slice\n",
      "  Y_train_pred = np.nanmean(Y_train_pred_full, axis=0)\n",
      "/home/andreia/anaconda3/lib/python3.6/site-packages/autosklearn/evaluation/train_evaluator.py:197: RuntimeWarning: Mean of empty slice\n",
      "  Y_train_pred = np.nanmean(Y_train_pred_full, axis=0)\n",
      "/home/andreia/anaconda3/lib/python3.6/site-packages/autosklearn/evaluation/train_evaluator.py:197: RuntimeWarning: Mean of empty slice\n",
      "  Y_train_pred = np.nanmean(Y_train_pred_full, axis=0)\n",
      "/home/andreia/anaconda3/lib/python3.6/site-packages/autosklearn/evaluation/train_evaluator.py:197: RuntimeWarning: Mean of empty slice\n",
      "  Y_train_pred = np.nanmean(Y_train_pred_full, axis=0)\n",
      "/home/andreia/anaconda3/lib/python3.6/site-packages/autosklearn/evaluation/train_evaluator.py:197: RuntimeWarning: Mean of empty slice\n",
      "  Y_train_pred = np.nanmean(Y_train_pred_full, axis=0)\n",
      "/home/andreia/anaconda3/lib/python3.6/site-packages/autosklearn/evaluation/train_evaluator.py:197: RuntimeWarning: Mean of empty slice\n",
      "  Y_train_pred = np.nanmean(Y_train_pred_full, axis=0)\n"
     ]
    },
    {
     "name": "stderr",
     "output_type": "stream",
     "text": [
      "/home/andreia/anaconda3/lib/python3.6/site-packages/autosklearn/evaluation/train_evaluator.py:197: RuntimeWarning: Mean of empty slice\n",
      "  Y_train_pred = np.nanmean(Y_train_pred_full, axis=0)\n",
      "/home/andreia/anaconda3/lib/python3.6/site-packages/autosklearn/evaluation/train_evaluator.py:197: RuntimeWarning: Mean of empty slice\n",
      "  Y_train_pred = np.nanmean(Y_train_pred_full, axis=0)\n",
      "/home/andreia/anaconda3/lib/python3.6/site-packages/autosklearn/evaluation/train_evaluator.py:197: RuntimeWarning: Mean of empty slice\n",
      "  Y_train_pred = np.nanmean(Y_train_pred_full, axis=0)\n",
      "/home/andreia/anaconda3/lib/python3.6/site-packages/autosklearn/evaluation/train_evaluator.py:197: RuntimeWarning: Mean of empty slice\n",
      "  Y_train_pred = np.nanmean(Y_train_pred_full, axis=0)\n",
      "/home/andreia/anaconda3/lib/python3.6/site-packages/autosklearn/evaluation/train_evaluator.py:197: RuntimeWarning: Mean of empty slice\n",
      "  Y_train_pred = np.nanmean(Y_train_pred_full, axis=0)\n",
      "/home/andreia/anaconda3/lib/python3.6/site-packages/autosklearn/evaluation/train_evaluator.py:197: RuntimeWarning: Mean of empty slice\n",
      "  Y_train_pred = np.nanmean(Y_train_pred_full, axis=0)\n"
     ]
    },
    {
     "ename": "TypeError",
     "evalue": "'numpy.float64' object is not callable",
     "output_type": "error",
     "traceback": [
      "\u001b[0;31m---------------------------------------------------------------------------\u001b[0m",
      "\u001b[0;31m_RemoteTraceback\u001b[0m                          Traceback (most recent call last)",
      "\u001b[0;31m_RemoteTraceback\u001b[0m: \n\"\"\"\nTraceback (most recent call last):\n  File \"/home/andreia/anaconda3/lib/python3.6/concurrent/futures/process.py\", line 175, in _process_worker\n    r = call_item.fn(*call_item.args, **call_item.kwargs)\n  File \"/home/andreia/anaconda3/lib/python3.6/concurrent/futures/process.py\", line 153, in _process_chunk\n    return [fn(*args) for args in chunk]\n  File \"/home/andreia/anaconda3/lib/python3.6/concurrent/futures/process.py\", line 153, in <listcomp>\n    return [fn(*args) for args in chunk]\nTypeError: 'numpy.float64' object is not callable\n\"\"\"",
      "\nThe above exception was the direct cause of the following exception:\n",
      "\u001b[0;31mTypeError\u001b[0m                                 Traceback (most recent call last)",
      "\u001b[0;32m<ipython-input-10-a7b94b0aed9a>\u001b[0m in \u001b[0;36m<module>\u001b[0;34m()\u001b[0m\n\u001b[1;32m      4\u001b[0m \u001b[0;34m\u001b[0m\u001b[0m\n\u001b[1;32m      5\u001b[0m     \u001b[0maccuracy_auto_combinations\u001b[0m\u001b[0;34m=\u001b[0m\u001b[0;34m[\u001b[0m\u001b[0;34m]\u001b[0m\u001b[0;34m\u001b[0m\u001b[0m\n\u001b[0;32m----> 6\u001b[0;31m     \u001b[0;32mfor\u001b[0m \u001b[0mdata\u001b[0m\u001b[0;34m,\u001b[0m \u001b[0maccuracy_auto\u001b[0m \u001b[0;32min\u001b[0m \u001b[0mzip\u001b[0m\u001b[0;34m(\u001b[0m\u001b[0mdata_combinations\u001b[0m\u001b[0;34m,\u001b[0m \u001b[0mexecutor\u001b[0m\u001b[0;34m.\u001b[0m\u001b[0mmap\u001b[0m\u001b[0;34m(\u001b[0m\u001b[0mdata\u001b[0m\u001b[0;34m.\u001b[0m\u001b[0mcreateClassifier\u001b[0m\u001b[0;34m(\u001b[0m\u001b[0;34m\"auto\"\u001b[0m\u001b[0;34m)\u001b[0m\u001b[0;34m,\u001b[0m \u001b[0mdata_combinations\u001b[0m\u001b[0;34m)\u001b[0m\u001b[0;34m)\u001b[0m\u001b[0;34m:\u001b[0m\u001b[0;34m\u001b[0m\u001b[0m\n\u001b[0m\u001b[1;32m      7\u001b[0m         \u001b[0maccuracy_auto_combinations\u001b[0m\u001b[0;34m.\u001b[0m\u001b[0mappend\u001b[0m\u001b[0;34m(\u001b[0m\u001b[0maccuracy_auto\u001b[0m\u001b[0;34m)\u001b[0m\u001b[0;34m\u001b[0m\u001b[0m\n\u001b[1;32m      8\u001b[0m \u001b[0;34m\u001b[0m\u001b[0m\n",
      "\u001b[0;32m~/anaconda3/lib/python3.6/concurrent/futures/process.py\u001b[0m in \u001b[0;36m_chain_from_iterable_of_lists\u001b[0;34m(iterable)\u001b[0m\n\u001b[1;32m    364\u001b[0m     \u001b[0mcareful\u001b[0m \u001b[0;32mnot\u001b[0m \u001b[0mto\u001b[0m \u001b[0mkeep\u001b[0m \u001b[0mreferences\u001b[0m \u001b[0mto\u001b[0m \u001b[0myielded\u001b[0m \u001b[0mobjects\u001b[0m\u001b[0;34m.\u001b[0m\u001b[0;34m\u001b[0m\u001b[0m\n\u001b[1;32m    365\u001b[0m     \"\"\"\n\u001b[0;32m--> 366\u001b[0;31m     \u001b[0;32mfor\u001b[0m \u001b[0melement\u001b[0m \u001b[0;32min\u001b[0m \u001b[0miterable\u001b[0m\u001b[0;34m:\u001b[0m\u001b[0;34m\u001b[0m\u001b[0m\n\u001b[0m\u001b[1;32m    367\u001b[0m         \u001b[0melement\u001b[0m\u001b[0;34m.\u001b[0m\u001b[0mreverse\u001b[0m\u001b[0;34m(\u001b[0m\u001b[0;34m)\u001b[0m\u001b[0;34m\u001b[0m\u001b[0m\n\u001b[1;32m    368\u001b[0m         \u001b[0;32mwhile\u001b[0m \u001b[0melement\u001b[0m\u001b[0;34m:\u001b[0m\u001b[0;34m\u001b[0m\u001b[0m\n",
      "\u001b[0;32m~/anaconda3/lib/python3.6/concurrent/futures/_base.py\u001b[0m in \u001b[0;36mresult_iterator\u001b[0;34m()\u001b[0m\n\u001b[1;32m    584\u001b[0m                     \u001b[0;31m# Careful not to keep a reference to the popped future\u001b[0m\u001b[0;34m\u001b[0m\u001b[0;34m\u001b[0m\u001b[0m\n\u001b[1;32m    585\u001b[0m                     \u001b[0;32mif\u001b[0m \u001b[0mtimeout\u001b[0m \u001b[0;32mis\u001b[0m \u001b[0;32mNone\u001b[0m\u001b[0;34m:\u001b[0m\u001b[0;34m\u001b[0m\u001b[0m\n\u001b[0;32m--> 586\u001b[0;31m                         \u001b[0;32myield\u001b[0m \u001b[0mfs\u001b[0m\u001b[0;34m.\u001b[0m\u001b[0mpop\u001b[0m\u001b[0;34m(\u001b[0m\u001b[0;34m)\u001b[0m\u001b[0;34m.\u001b[0m\u001b[0mresult\u001b[0m\u001b[0;34m(\u001b[0m\u001b[0;34m)\u001b[0m\u001b[0;34m\u001b[0m\u001b[0m\n\u001b[0m\u001b[1;32m    587\u001b[0m                     \u001b[0;32melse\u001b[0m\u001b[0;34m:\u001b[0m\u001b[0;34m\u001b[0m\u001b[0m\n\u001b[1;32m    588\u001b[0m                         \u001b[0;32myield\u001b[0m \u001b[0mfs\u001b[0m\u001b[0;34m.\u001b[0m\u001b[0mpop\u001b[0m\u001b[0;34m(\u001b[0m\u001b[0;34m)\u001b[0m\u001b[0;34m.\u001b[0m\u001b[0mresult\u001b[0m\u001b[0;34m(\u001b[0m\u001b[0mend_time\u001b[0m \u001b[0;34m-\u001b[0m \u001b[0mtime\u001b[0m\u001b[0;34m.\u001b[0m\u001b[0mtime\u001b[0m\u001b[0;34m(\u001b[0m\u001b[0;34m)\u001b[0m\u001b[0;34m)\u001b[0m\u001b[0;34m\u001b[0m\u001b[0m\n",
      "\u001b[0;32m~/anaconda3/lib/python3.6/concurrent/futures/_base.py\u001b[0m in \u001b[0;36mresult\u001b[0;34m(self, timeout)\u001b[0m\n\u001b[1;32m    430\u001b[0m                 \u001b[0;32mraise\u001b[0m \u001b[0mCancelledError\u001b[0m\u001b[0;34m(\u001b[0m\u001b[0;34m)\u001b[0m\u001b[0;34m\u001b[0m\u001b[0m\n\u001b[1;32m    431\u001b[0m             \u001b[0;32melif\u001b[0m \u001b[0mself\u001b[0m\u001b[0;34m.\u001b[0m\u001b[0m_state\u001b[0m \u001b[0;34m==\u001b[0m \u001b[0mFINISHED\u001b[0m\u001b[0;34m:\u001b[0m\u001b[0;34m\u001b[0m\u001b[0m\n\u001b[0;32m--> 432\u001b[0;31m                 \u001b[0;32mreturn\u001b[0m \u001b[0mself\u001b[0m\u001b[0;34m.\u001b[0m\u001b[0m__get_result\u001b[0m\u001b[0;34m(\u001b[0m\u001b[0;34m)\u001b[0m\u001b[0;34m\u001b[0m\u001b[0m\n\u001b[0m\u001b[1;32m    433\u001b[0m             \u001b[0;32melse\u001b[0m\u001b[0;34m:\u001b[0m\u001b[0;34m\u001b[0m\u001b[0m\n\u001b[1;32m    434\u001b[0m                 \u001b[0;32mraise\u001b[0m \u001b[0mTimeoutError\u001b[0m\u001b[0;34m(\u001b[0m\u001b[0;34m)\u001b[0m\u001b[0;34m\u001b[0m\u001b[0m\n",
      "\u001b[0;32m~/anaconda3/lib/python3.6/concurrent/futures/_base.py\u001b[0m in \u001b[0;36m__get_result\u001b[0;34m(self)\u001b[0m\n\u001b[1;32m    382\u001b[0m     \u001b[0;32mdef\u001b[0m \u001b[0m__get_result\u001b[0m\u001b[0;34m(\u001b[0m\u001b[0mself\u001b[0m\u001b[0;34m)\u001b[0m\u001b[0;34m:\u001b[0m\u001b[0;34m\u001b[0m\u001b[0m\n\u001b[1;32m    383\u001b[0m         \u001b[0;32mif\u001b[0m \u001b[0mself\u001b[0m\u001b[0;34m.\u001b[0m\u001b[0m_exception\u001b[0m\u001b[0;34m:\u001b[0m\u001b[0;34m\u001b[0m\u001b[0m\n\u001b[0;32m--> 384\u001b[0;31m             \u001b[0;32mraise\u001b[0m \u001b[0mself\u001b[0m\u001b[0;34m.\u001b[0m\u001b[0m_exception\u001b[0m\u001b[0;34m\u001b[0m\u001b[0m\n\u001b[0m\u001b[1;32m    385\u001b[0m         \u001b[0;32melse\u001b[0m\u001b[0;34m:\u001b[0m\u001b[0;34m\u001b[0m\u001b[0m\n\u001b[1;32m    386\u001b[0m             \u001b[0;32mreturn\u001b[0m \u001b[0mself\u001b[0m\u001b[0;34m.\u001b[0m\u001b[0m_result\u001b[0m\u001b[0;34m\u001b[0m\u001b[0m\n",
      "\u001b[0;31mTypeError\u001b[0m: 'numpy.float64' object is not callable"
     ]
    }
   ],
   "source": [
    "import concurrent.futures\n",
    "\n",
    "with concurrent.futures.ProcessPoolExecutor() as executor:\n",
    "    \n",
    "    accuracy_auto_combinations=[]\n",
    "    for data, accuracy_auto in zip(data_combinations, executor.map(data.createClassifier(\"auto\"), data_combinations)):\n",
    "        accuracy_auto_combinations.append(accuracy_auto)\n",
    "        \n",
    "# accuracy_auto_combinations=[]  \n",
    "#for data in data_combinations:  \n",
    " #       accuracy_auto=data.createClassifier(\"auto\")\n",
    "  #      accuracy_auto_combinations.append(accuracy_auto)"
   ]
  },
  {
   "cell_type": "code",
   "execution_count": 11,
   "metadata": {},
   "outputs": [
    {
     "name": "stdout",
     "output_type": "stream",
     "text": [
      "All accuracies: []\n"
     ]
    }
   ],
   "source": [
    "print(\"All accuracies:\", accuracy_auto_combinations)\n",
    "#print(\"parameters\", classifier_auto.cv_results_)"
   ]
  },
  {
   "cell_type": "code",
   "execution_count": null,
   "metadata": {},
   "outputs": [],
   "source": [
    "#Make cross-validation\n",
    "skf = StratifiedKFold(n_splits=5, shuffle=True, random_state=0)\n",
    "    data_x=\n",
    "    data_y=\n",
    "    for train_index, test_index in skf.split(data_x, data_y):\n",
    "        x_train, x_test = data_x[train_index], data_x[test_index]\n",
    "        y_train, y_test = data_y[train_index], data_y[test_index]\n",
    "\n",
    "        tfidf = TfidfVectorizer()\n",
    "        x_train = tfidf.fit_transform(x_train)\n",
    "        x_test = tfidf.transform(x_test)\n",
    "\n",
    "        clf = SVC(kernel='linear')\n",
    "        clf.fit(x_train, y_train)\n",
    "        y_pred = clf.predict(x_test)\n",
    "        score = accuracy_score(y_test, y_pred)\n",
    "        print(score)\n",
    "        \n",
    "#another way\n",
    "from muffnn import MLPClassifier\n",
    "import numpy as np\n",
    "import pandas as pd\n",
    "from sklearn.feature_extraction.text import TfidfVectorizer\n",
    "from sklearn.model_selection import cross_val_score\n",
    "from sklearn.pipeline import make_pipeline\n",
    "\n",
    "# Read Data. Source:\n",
    "# http://archive.ics.uci.edu/ml/machine-learning-databases/00331/sentiment%20labelled%20sentences.zip\n",
    "\n",
    "filename = 'imdb_labelled.txt'\n",
    "names = ['text', 'label']\n",
    "df = pd.read_csv(filename, header=None, names=names, sep='\\t', quoting=3)\n",
    "\n",
    "# Chain together tf-idf and an MLP with a single hidden layer of size 256\n",
    "tfidf = TfidfVectorizer()\n",
    "mlp = MLPClassifier(hidden_units=(256,))\n",
    "classifier = make_pipeline(tfidf, mlp)\n",
    "\n",
    "# Get cross-validated accuracy of the model\n",
    "cv_accuracy = cross_val_score(classifier, df.text, df.label, cv=5)\n",
    "print(\"Mean Accuracy: {}\".format(np.mean(cv_accuracy)))"
   ]
  },
  {
   "cell_type": "code",
   "execution_count": null,
   "metadata": {},
   "outputs": [],
   "source": [
    "#ver termows associados a cada partido e ver a sua frwequncia nos outros partidos"
   ]
  },
  {
   "cell_type": "code",
   "execution_count": null,
   "metadata": {},
   "outputs": [],
   "source": [
    "#Missing:\n",
    " #   \n",
    "   # - evaluation\n",
    "    #- metadata"
   ]
  },
  {
   "cell_type": "code",
   "execution_count": 1,
   "metadata": {},
   "outputs": [],
   "source": [
    "#use_idf: If use_idf is set to True (which is the default), then inverse document frequency is taken into account during \n",
    "#transformation. What this causes is that tokens that appear in a lot of documents will be automatically deemed less \n",
    "#informative than those that appear in fewer documents.\n",
    "#If you set it to False, only term-frequency (count of words in a document) is used.\n",
    "        \n",
    "\n",
    "\n",
    "#See sentence size to know if ngrams make sense or not:\n",
    "#https://github.com/hundredblocks/concrete_NLP_tutorial/blob/master/NLP_notebook.ipynb\n",
    "\n",
    "#important words + confusion matrix\n",
    "#https://github.com/hundredblocks/concrete_NLP_tutorial/blob/master/NLP_notebook.ipynb"
   ]
  }
 ],
 "metadata": {
  "kernelspec": {
   "display_name": "Python 3",
   "language": "python",
   "name": "python3"
  },
  "language_info": {
   "codemirror_mode": {
    "name": "ipython",
    "version": 3
   },
   "file_extension": ".py",
   "mimetype": "text/x-python",
   "name": "python",
   "nbconvert_exporter": "python",
   "pygments_lexer": "ipython3",
   "version": "3.6.4"
  }
 },
 "nbformat": 4,
 "nbformat_minor": 2
}
